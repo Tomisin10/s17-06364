{
 "cells": [
  {
   "cell_type": "markdown",
   "metadata": {},
   "source": [
    "# Brief introduction to the Jupyter notebook\n",
    "\n",
    "The Jupyter notebook is a browser-based tool for writing and running Python."
   ]
  },
  {
   "cell_type": "code",
   "execution_count": 8,
   "metadata": {
    "collapsed": false
   },
   "outputs": [
    {
     "data": {
      "text/plain": [
       "8"
      ]
     },
     "execution_count": 8,
     "metadata": {},
     "output_type": "execute_result"
    }
   ],
   "source": [
    "a = 3\n",
    "b = 5\n",
    "a + b\n",
    "# This is a comment\n",
    "# Type Ctrl-Enter to execute this block\n",
    "# Type Shift-Enter to execute this block and Select the cell below it"
   ]
  },
  {
   "cell_type": "code",
   "execution_count": 9,
   "metadata": {
    "collapsed": false
   },
   "outputs": [
    {
     "data": {
      "text/plain": [
       "6"
      ]
     },
     "execution_count": 9,
     "metadata": {},
     "output_type": "execute_result"
    }
   ],
   "source": [
    "# The variables you defined above are available here.\n",
    "2 * a"
   ]
  },
  {
   "cell_type": "code",
   "execution_count": 13,
   "metadata": {
    "collapsed": true
   },
   "outputs": [],
   "source": [
    "# Let's make an array\n",
    "import numpy as np\n",
    "\n",
    "x = np.linspace(0, np.pi)\n",
    "y = np.exp(-x)"
   ]
  },
  {
   "cell_type": "code",
   "execution_count": 14,
   "metadata": {
    "collapsed": false
   },
   "outputs": [
    {
     "data": {
      "text/plain": [
       "(array([ 0.        ,  0.06411414,  0.12822827,  0.19234241,  0.25645654,\n",
       "         0.32057068,  0.38468481,  0.44879895,  0.51291309,  0.57702722,\n",
       "         0.64114136,  0.70525549,  0.76936963,  0.83348377,  0.8975979 ,\n",
       "         0.96171204,  1.02582617,  1.08994031,  1.15405444,  1.21816858,\n",
       "         1.28228272,  1.34639685,  1.41051099,  1.47462512,  1.53873926,\n",
       "         1.60285339,  1.66696753,  1.73108167,  1.7951958 ,  1.85930994,\n",
       "         1.92342407,  1.98753821,  2.05165235,  2.11576648,  2.17988062,\n",
       "         2.24399475,  2.30810889,  2.37222302,  2.43633716,  2.5004513 ,\n",
       "         2.56456543,  2.62867957,  2.6927937 ,  2.75690784,  2.82102197,\n",
       "         2.88513611,  2.94925025,  3.01336438,  3.07747852,  3.14159265]),\n",
       " array([ 1.        ,  0.93789795,  0.87965256,  0.82502433,  0.77378862,\n",
       "         0.72573476,  0.68066514,  0.63839443,  0.59874883,  0.5615653 ,\n",
       "         0.52669094,  0.49398235,  0.46330503,  0.43453284,  0.40754745,\n",
       "         0.38223792,  0.35850016,  0.33623656,  0.31535558,  0.29577135,\n",
       "         0.27740334,  0.26017603,  0.24401856,  0.22886451,  0.21465155,\n",
       "         0.20132125,  0.18881879,  0.17709275,  0.16609493,  0.15578009,\n",
       "         0.14610583,  0.13703236,  0.12852236,  0.12054086,  0.11305503,\n",
       "         0.10603408,  0.09944914,  0.09327315,  0.08748069,  0.08204796,\n",
       "         0.07695262,  0.0721737 ,  0.06769156,  0.06348778,  0.05954506,\n",
       "         0.05584719,  0.05237896,  0.04912612,  0.04607529,  0.04321392]))"
      ]
     },
     "execution_count": 14,
     "metadata": {},
     "output_type": "execute_result"
    }
   ],
   "source": [
    "x, y"
   ]
  },
  {
   "cell_type": "code",
   "execution_count": 17,
   "metadata": {
    "collapsed": false
   },
   "outputs": [
    {
     "data": {
      "image/png": "[encoded data removed]",
      "text/plain": [
       "<matplotlib.figure.Figure at 0x10d3bd278>"
      ]
     },
     "metadata": {},
     "output_type": "display_data"
    }
   ],
   "source": [
    "# Let's make a plot\n",
    "%matplotlib inline\n",
    "\n",
    "import matplotlib.pyplot as plt\n",
    "plt.plot(x, y)\n",
    "plt.xlabel('x')\n",
    "plt.ylabel('y')\n",
    "plt.show()"
   ]
  },
  {
   "cell_type": "markdown",
   "metadata": {},
   "source": [
    "You can write text in [Markdown](https://daringfireball.net/projects/markdown/) and it will be rendered nicely in the notebook. This includes equations: $y = e^{-x}$.\n",
    "\n",
    "To change a cell to Markdown, select the menu: Cell->Cell Type -> Markdown.\n",
    "\n",
    "Double click in a markdown cell to edit it.\n",
    "\n",
    "----\n",
    "\n",
    "# Markup\n",
    "## Block quotes\n",
    "> Block quotes\n",
    "> for example\n",
    "\n",
    "## Lists\n",
    "- Learn Python\n",
    "- Learn Reactions\n",
    "\n",
    "Goals:\n",
    "1. Come to class every day\n",
    "2. Graduate\n",
    "\n",
    "## Text markup\n",
    "*italics*\n",
    "\n",
    "**bold**\n",
    "\n",
    "## Equations\n",
    "You can use [LaTeX](https://en.wikibooks.org/wiki/LaTeX/Mathematics) to make beautiful equations.\n",
    "\n",
    "$\\alpha, \\beta, \\gamma, \\Gamma, \\pi, \\Pi, \\phi, \\varphi, \\mu, \\Phi$\n",
    "\n",
    "Keep it simple though. Not everything is supported.\n",
    "\n",
    "# Use text to make your notebooks readable\n",
    "You need to use text (not just comments) to make your notebooks readable and easy to understand what you are trying to do. Part of your grade will depend on it."
   ]
  },
  {
   "cell_type": "code",
   "execution_count": null,
   "metadata": {
    "collapsed": true
   },
   "outputs": [],
   "source": []
  }
 ],
 "metadata": {
  "kernelspec": {
   "display_name": "Python 3",
   "language": "python",
   "name": "python3"
  },
  "language_info": {
   "codemirror_mode": {
    "name": "ipython",
    "version": 3
   },
   "file_extension": ".py",
   "mimetype": "text/x-python",
   "name": "python",
   "nbconvert_exporter": "python",
   "pygments_lexer": "ipython3",
   "version": "3.5.2"
  }
 },
 "nbformat": 4,
 "nbformat_minor": 0
}
