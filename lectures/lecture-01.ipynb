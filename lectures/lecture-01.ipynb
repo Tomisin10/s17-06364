{
 "cells": [
  {
   "cell_type": "markdown",
   "metadata": {},
   "source": [
    "\n",
    "# Lecture 1 - Chapter 1.1-1.3\n",
    "\n",
    "A goal of reaction engineering is to design processes that convert low value feedstocks to high value products using chemical reactions.\n",
    "\n",
    "1.  Can we do it at an economical rate?\n",
    "2.  How big should a reactor be to make a product at some rate?\n",
    "3.  How much heat do we have add/remove to keep the reactor at a safe temperature?\n",
    "4.  Is it safe to operate a reactor under some conditions?\n",
    "\n",
    "These are just some of the questions we have to answer, and we have to answer them **quantitatively**. \n",
    "\n",
    "To do that we must develop mathematical equations that describe the rate of disappearance of reactants and the rate of production of products. Then we have to solve those equations. We will use mathematical software extensively to solve them.\n",
    "\n",
    "\n",
    "## Reactions convert reactants to products\n",
    "\n",
    "We express a reaction like this\n",
    "\n",
    " $A + 2B \\rightarrow C + D$ \n",
    "\n",
    "That means 1 mole of A reacts with two moles of B to produce one mole of C and one mole of D. Reactants are on the left side of the arrow, and products are on the right.\n",
    "\n",
    "The numbers in front of the species are called stoichiometric coefficients. They do not have to be integers, e.g.  $H_2 + 1/2 O_2 \\rightarrow H_2O$ .\n",
    "\n",
    "Reactions must be balanced, which means that there are the same number of elements on each side. That is required for conservation of mass.\n",
    "\n",
    "\n",
    "## Reaction rates\n",
    "\n",
    "The rate of disappearance of A is denoted  $-r_A$ and it has units of mol/(volume \\* time).\n",
    "\n",
    "The rate of production of C is denoted  $r_C$ .\n",
    "\n",
    "If we have  $-r_A = 4 mol/(L\\cdot s)$ then we know that:\n",
    "\n",
    " $-r_B = 8 mol/(L\\cdot s)$ and  $r_C = 4 mol/(L\\cdot s)$ \n",
    "\n",
    "or\n",
    "\n",
    "more generally for this reaction:  $-r_B = -2 r_A$ \n",
    "\n",
    "\n",
    "## The rate law is an algebraic function\n",
    "\n",
    " $-r_A$ will generally depend on the concentrations of all the species, and the temperature.\n",
    "\n",
    "It will be an algebraic function. Here are some examples:\n",
    "\n",
    " $-r_A = k C_A$ \n",
    "\n",
    " $-r_A = k C_A^{3/2}$ \n",
    "\n",
    " $-r_A = k C_A^2$ \n",
    "\n",
    " $-r_A = k C_A C_B$ \n",
    "\n",
    " $-r_A = \\frac{k_1 C_A}{1 + k_2 C_A}$ \n",
    "\n",
    " $r_A$ will always have units like mol / (volume \\* time). The concentrations will always have units like mol / vol. The constants in the rate laws will have units appropriate to make these units work.\n",
    "\n",
    "These will be given for a while.\n",
    "\n",
    "\n",
    "## The mole balance\n",
    "\n",
    "The mole balance will be the foundation of reactor design.\n",
    "\n",
    "![img](./images/control-volume.png)\n",
    "\n",
    "In - Out + Generation = Accumulation\n",
    "\n",
    " $F_{A0} - F_A + G_A = \\frac{dN_A}{dt}$ \n",
    "\n",
    " $F_{A0}$ is the molar flow of A in the volume (mol/time)\n",
    "\n",
    " $F_A$ is the molar flow of A out of the volume.\n",
    "\n",
    " $G_A = V \\cdot r_A$ and it is the rate that A is generated **inside** the volume.\n",
    "\n",
    " $\\frac{dN_A}{dt}$ is the rate of change of the number of moles in the volume.\n",
    "\n",
    "We will spend several weeks looking at various forms and applications of this equation:\n",
    "\n",
    "1.  No flows (batch reactor)\n",
    "2.  Steady state, constant well-mixed, volume (CSTR)\n",
    "3.  Steady state, plug flow reactor\n",
    "\n",
    "\n",
    "# The batch reactor\n",
    "\n",
    "Suppose we have a reaction  $A \\rightarrow B$ , where it is known that  $-r_A = k C_A$ , and  $k=0.23 1/min$ . We start the reactor at  $t=0$ with a concentration of  $C_{A0} = 2 mol/L$ . The reactor has a volume of 2 L. What is the concentration of A after 5 minutes?\n",
    "\n",
    "If there is no flow, the equation simplifies to:\n",
    "\n",
    " $\\frac{dN_A}{dt} = V \\cdot -k C_A$ .\n",
    "\n",
    "IF the volume is constant, we can simplify this to:\n",
    "\n",
    " $\\frac{dC_A}{dt} = -k C_A$ .\n",
    "\n",
    "Which is a simple differential equation with the initial condition of  $C_A(t=0) = 2$ .\n",
    "\n",
    "The solution is:\n",
    "\n",
    " $C_A(t) = C_{A0} exp(-k t)$ .\n",
    "\n",
    "Let's take a look at this function and plot how  $C_A$ changes with time. This is our first look at Python. \n",
    "\n",
    "Several new things to note.\n",
    "\n",
    "1.  We use \"magic\" with %matplotlib inline to get the figure to show inline.\n",
    "2.  We import the plotting and numpy libraries to get access to the functions. You only need to import these once, and often we do it first at the top of the notebook.\n",
    "3.  We create some variables to store values.\n",
    "4.  numpy creates arrays, and has array-based functions (i.e. array in, array out with element-wise operations)\n",
    "5.  We made an array of time values, and then evaluated the concentration expression for each value. Finally, we use some plot commands to make a figure.\n",
    "\n"
   ]
  },
  {
   "cell_type": "code",
   "execution_count": 8,
   "metadata": {
    "collapsed": false
   },
   "outputs": [
    {
     "data": {
      "text/plain": [
       "<matplotlib.text.Text at 0x10c59ed30>"
      ]
     },
     "execution_count": 8,
     "metadata": {},
     "output_type": "execute_result"
    },
    {
     "data": {
      "image/png": "[encoded data removed]",
      "text/plain": [
       "<matplotlib.figure.Figure at 0x10c503b70>"
      ]
     },
     "metadata": {},
     "output_type": "display_data"
    }
   ],
   "source": [
    "%matplotlib inline\n",
    "import matplotlib.pyplot as plt\n",
    "import numpy as np\n",
    "\n",
    "k = 0.23  # 1/s\n",
    "Ca0 = 2  # mol / L\n",
    "\n",
    "t = np.linspace(0, 10)  # an array of 50 points from 0 to 10\n",
    "Ca = Ca0 * np.exp(-k * t)  # an array of 50 values of Ca as a function of t\n",
    "\n",
    "plt.plot(t, Ca)\n",
    "plt.xlabel('t (min)')\n",
    "plt.ylabel('$C_A$ (M)')\n",
    "\n",
    "# To execute this in the IPython notebook, select the cell, and type C-Ret."
   ]
  },
  {
   "cell_type": "code",
   "execution_count": 9,
   "metadata": {
    "collapsed": false
   },
   "outputs": [
    {
     "data": {
      "text/plain": [
       "0.20051768744560741"
      ]
     },
     "execution_count": 9,
     "metadata": {},
     "output_type": "execute_result"
    }
   ],
   "source": [
    "Ca0 * np.exp(-k * 10)"
   ]
  },
  {
   "cell_type": "markdown",
   "metadata": {},
   "source": [
    "It is easy to get help on these commands. Once you have imported the library, use ? to access the help. Also, check out the help menu.\n",
    "\n"
   ]
  },
  {
   "cell_type": "code",
   "execution_count": 1,
   "metadata": {
    "collapsed": true
   },
   "outputs": [],
   "source": [
    "?np.linspace"
   ]
  },
  {
   "cell_type": "markdown",
   "metadata": {},
   "source": [
    "\n"
   ]
  },
  {
   "cell_type": "code",
   "execution_count": 1,
   "metadata": {
    "collapsed": true
   },
   "outputs": [],
   "source": [
    "?np.exp"
   ]
  },
  {
   "cell_type": "markdown",
   "metadata": {},
   "source": [
    "Back to our figure. You can read from the figure the answer to our original question (what is the concentration at 5 minutes?) is about 0.6 M.\n",
    "\n",
    "In the next block we solve for it quantitatively. This is a simple evaluation that does not require any algebraic manipulation.\n",
    "\n"
   ]
  },
  {
   "cell_type": "code",
   "execution_count": 11,
   "metadata": {
    "collapsed": false
   },
   "outputs": [
    {
     "data": {
      "text/plain": [
       "'The concentration at 5 min is 0.2005176874456074 mol/L'"
      ]
     },
     "execution_count": 11,
     "metadata": {},
     "output_type": "execute_result"
    }
   ],
   "source": [
    "t = 10 # min\n",
    "'The concentration at 5 min is {} mol/L'.format(Ca0 * np.exp(-k * t))"
   ]
  },
  {
   "cell_type": "markdown",
   "metadata": {},
   "source": [
    "That is an example of a simple evaluation of math in Python. The output is in single quotes because it is a string. Note the number of significant figures. It is ridiculous. We will fix that next.\n",
    "\n",
    "A more difficult question is: At what time is the concentration of A 0.5 M? From the graph, you can estimate the answer must be about 6 minutes. We can solve the equation for  $t$ as:\n",
    "\n",
    " $t = -\\frac{1}{k} ln\\frac{C_A}{C_{A0}}$ and evaluate that.\n",
    "\n"
   ]
  },
  {
   "cell_type": "code",
   "execution_count": 1,
   "metadata": {
    "collapsed": true
   },
   "outputs": [],
   "source": [
    "Ca = 0.5\n",
    "t = -1 / k * np.log(Ca / Ca0)\n",
    "print('The concentration is {0} M after {1:1.2f} minutes.'.format(Ca, t))"
   ]
  },
  {
   "cell_type": "markdown",
   "metadata": {},
   "source": [
    "We did a couple of new things there. First, the natural log function is np.log. Second, we used positional format tags in the string. 0 means the first argument (here it is Ca), and 1 means the second argument (which is t) in the format function. Third, we used a format option 1.2f, which means format this argument as a float with two decimal places. We will ignore what the 1 means for now. Finally, we printed the string, which just removes the quotes around it.\n",
    "\n",
    "\n",
    "# Numerical solutions\n",
    "\n",
    "\n",
    "## Numerical integration\n",
    "\n",
    "We won't always be able to get an analytical solution to our equations, and we won't always want to.\n",
    "\n",
    "1.  The algebra may be very tedious, which means there are lots of opportunities for mistakes.\n",
    "2.  It may be impossible, or not worth the effort.\n",
    "\n",
    "So, we need to be able to numerically solve equations. What we solved above was really the integral:\n",
    "\n",
    " $t=\\int_{C_{A0}}^{C_A} \\frac{dC_A}{-k C_A}$ \n",
    "\n",
    "To numerically evaluate this, we use the scipy.integrate.quad function, which takes three arguments: an integrand function, and the limits of integration. The integrand here is  $1 / (-k CA)$ .\n",
    "\n"
   ]
  },
  {
   "cell_type": "code",
   "execution_count": 1,
   "metadata": {
    "collapsed": false
   },
   "outputs": [
    {
     "name": "stdout",
     "output_type": "stream",
     "text": [
      "Ca = 0.5 M at t=9.99 min."
     ]
    }
   ],
   "source": [
    "from scipy.integrate import quad\n",
    "\n",
    "def integrand(Ca):\n",
    "    return 1 / (-k * Ca)\n",
    "\n",
    "ans, err = quad(integrand, Ca0, 0.5)\n",
    "print('Ca = 0.5 M at t={0:1.2f} min.'.format(ans))"
   ]
  },
  {
   "cell_type": "markdown",
   "metadata": {},
   "source": [
    "The nice thing about this approach is everything is defined, and evaluated. We didn't have to get an analytical form for the integral. We did have to derive the integral equation though.\n",
    "\n",
    "\n",
    "# Solving nonlinear equations\n",
    "\n",
    "Alternatively, we can solve the original equation we had.  This equation is nonlinear in  $t$ , so we need to use an iterative solver. The strategy is we define a function that will be equal to zero at the solution we want. For example to solve the equation:\n",
    "\n",
    " $0.5 = C_{A0} e^{- k t}$ for t, we need a function that is:\n",
    "\n",
    " $f(t) = 0 = 0.5 - C_{A0} e^{- k t}$ \n",
    "\n",
    "Then we can use a solver to find the value of  $t$ . These solvers require an initial guess, and then it iteratively finds the answer.\n",
    "\n"
   ]
  },
  {
   "cell_type": "code",
   "execution_count": 1,
   "metadata": {
    "collapsed": false
   },
   "outputs": [
    {
     "name": "stdout",
     "output_type": "stream",
     "text": [
      "The concentration is 0.5 M after       9.99 minutes."
     ]
    }
   ],
   "source": [
    "Ca = 0.5\n",
    "def objective(t):\n",
    "    return Ca - Ca0 * np.exp(-k * t)\n",
    "\n",
    "from scipy.optimize import fsolve\n",
    "ans, = fsolve(objective, 6)\n",
    "print('The concentration is {0} M after {1:10.2f} minutes.'.format(Ca, ans))"
   ]
  },
  {
   "cell_type": "markdown",
   "metadata": {},
   "source": [
    "I used a different format here: 10.2f. That means format the number with two decimal places in a field that is up to 10 characters wide. That is why we see extra space in the output. It doesn't make sense here, but later we will use it to align columns of numbers.\n",
    "\n",
    "Note we have to make a guess here. This problem is well behaved, there is only one solution and it doesn't matter what you guess.\n",
    "\n",
    "We get the same answer. Later we will see this is not always true. If there is more than one solution, we get different answers depending on the guess. \n",
    "\n",
    "Consider  $y = x^2 - 4$ and ask for what values of x is there a solution? You know it is  $y =\\pm 2$ . Let's see what happens when we solve this numerically.\n",
    "\n"
   ]
  },
  {
   "cell_type": "code",
   "execution_count": 1,
   "metadata": {
    "collapsed": false
   },
   "outputs": [
    {
     "name": "stdout",
     "output_type": "stream",
     "text": []
    }
   ],
   "source": [
    "def objective(x):\n",
    "    return x**2 - 4"
   ]
  },
  {
   "cell_type": "markdown",
   "metadata": {},
   "source": [
    "\n"
   ]
  },
  {
   "cell_type": "code",
   "execution_count": 1,
   "metadata": {
    "collapsed": false
   },
   "outputs": [
    {
     "name": "stdout",
     "output_type": "stream",
     "text": [
      "[ 2.]"
     ]
    }
   ],
   "source": [
    "print(fsolve(objective, 3))"
   ]
  },
  {
   "cell_type": "markdown",
   "metadata": {},
   "source": [
    "\n"
   ]
  },
  {
   "cell_type": "code",
   "execution_count": 1,
   "metadata": {
    "collapsed": false
   },
   "outputs": [
    {
     "name": "stdout",
     "output_type": "stream",
     "text": [
      "[-2.]"
     ]
    }
   ],
   "source": [
    "print(fsolve(objective, -3))"
   ]
  },
  {
   "cell_type": "markdown",
   "metadata": {},
   "source": [
    "\n"
   ]
  },
  {
   "cell_type": "code",
   "execution_count": 1,
   "metadata": {
    "collapsed": false
   },
   "outputs": [
    {
     "name": "stdout",
     "output_type": "stream",
     "text": [
      "[-2. -2.  2.  2.]"
     ]
    }
   ],
   "source": [
    "# You can use more than one initial guess\n",
    "print(fsolve(objective, [-3, -1, 1, 3]))"
   ]
  },
  {
   "cell_type": "markdown",
   "metadata": {},
   "source": [
    "\n"
   ]
  },
  {
   "cell_type": "code",
   "execution_count": 1,
   "metadata": {
    "collapsed": false
   },
   "outputs": [
    {
     "name": "stdout",
     "output_type": "stream",
     "text": [
      "[ 0.]"
     ]
    }
   ],
   "source": [
    "print(fsolve(objective, 0))"
   ]
  },
  {
   "cell_type": "markdown",
   "metadata": {},
   "source": [
    "WARNING! Here we are notified that we aren't getting a good solution, and you can see the output is just the initial guess. The solver uses derivatives to go towards the solution. What is the derivative of our function at x=0?\n",
    "\n",
    "Computers do not solve all our problems! But, they can help us solve a lot of them.\n",
    "\n",
    "\n",
    "# Integrating differential equations\n",
    "\n",
    "The final approach to this problem is to solve the differential equation numerically. We started with this mole balance:\n",
    "\n",
    " $\\frac{dC_A}{dt} = - k C_A$ \n",
    "\n",
    "with  $C_A(t=0)=C_{A0}$ \n",
    "\n",
    "We can use Python to integrate this. To this, we need to write the differential equation in the standard form:\n",
    "\n",
    " $y'(x) = f(x, y)$ \n",
    "\n",
    "Here we have:\n",
    "\n",
    " $y'(t) = -k C_A$ , which is already in standard form, so the function we need is  $f(t) = -k Ca$ \n",
    "\n",
    "Then, we need to integrate from the initial condition to some later time. We get the solution evaluated at the time points we specify. So, to find out what the concentration is after five minutes, we integrate to five minutes and take the last value.\n",
    "\n"
   ]
  },
  {
   "cell_type": "code",
   "execution_count": 1,
   "metadata": {
    "collapsed": true
   },
   "outputs": [],
   "source": [
    "# Here is one way to get help on a function\n",
    "?odeint"
   ]
  },
  {
   "cell_type": "markdown",
   "metadata": {},
   "source": [
    "\n"
   ]
  },
  {
   "cell_type": "code",
   "execution_count": 1,
   "metadata": {
    "collapsed": false
   },
   "outputs": [
    {
     "name": "stdout",
     "output_type": "stream",
     "text": []
    }
   ],
   "source": [
    "def ode(Ca, t):\n",
    "    'The differential equation dCa/dt = -k * Ca'\n",
    "    dCadt = -k * Ca\n",
    "    return dCadt\n",
    "\n",
    "tspan = np.linspace(0, 5)\n",
    "sol = odeint(ode, Ca0, tspan)\n",
    "\n",
    "plt.plot(tspan, sol)\n",
    "plt.xlabel('t (min)')\n",
    "plt.ylabel('C_A (M)')"
   ]
  },
  {
   "cell_type": "markdown",
   "metadata": {},
   "source": [
    "Let's do some sanity checking. \n",
    "\n",
    "1.  Does the concentration start at the right place, i.e. Ca0?\n",
    "2.  What should we expect the solution to look like? Does it look that way?\n",
    "\n",
    "What is in the variable sol?\n",
    "\n"
   ]
  },
  {
   "cell_type": "code",
   "execution_count": 1,
   "metadata": {
    "collapsed": false
   },
   "outputs": [
    {
     "name": "stdout",
     "output_type": "stream",
     "text": [
      "#+begin_example\n",
      "array([[ 1.5       ],\n",
      "       [ 1.48325738],\n",
      "       [ 1.46670169],\n",
      "       [ 1.45033079],\n",
      "       [ 1.43414259],\n",
      "       [ 1.41813508],\n",
      "       [ 1.40230624],\n",
      "       [ 1.38665408],\n",
      "       [ 1.37117662],\n",
      "       [ 1.35587191],\n",
      "       [ 1.34073804],\n",
      "       [ 1.32577307],\n",
      "       [ 1.31097515],\n",
      "       [ 1.2963424 ],\n",
      "       [ 1.28187297],\n",
      "       [ 1.26756505],\n",
      "       [ 1.25341683],\n",
      "       [ 1.23942653],\n",
      "       [ 1.22559239],\n",
      "       [ 1.21191266],\n",
      "       [ 1.19838561],\n",
      "       [ 1.18500956],\n",
      "       [ 1.17178279],\n",
      "       [ 1.15870366],\n",
      "       [ 1.14577052],\n",
      "       [ 1.13298172],\n",
      "       [ 1.12033568],\n",
      "       [ 1.10783079],\n",
      "       [ 1.09546547],\n",
      "       [ 1.08323819],\n",
      "       [ 1.07114738],\n",
      "       [ 1.05919153],\n",
      "       [ 1.04736913],\n",
      "       [ 1.03567869],\n",
      "       [ 1.02411874],\n",
      "       [ 1.01268781],\n",
      "       [ 1.00138447],\n",
      "       [ 0.99020728],\n",
      "       [ 0.97915486],\n",
      "       [ 0.96822579],\n",
      "       [ 0.95741871],\n",
      "       [ 0.94673226],\n",
      "       [ 0.93616508],\n",
      "       [ 0.92571586],\n",
      "       [ 0.91538327],\n",
      "       [ 0.90516601],\n",
      "       [ 0.89506279],\n",
      "       [ 0.88507235],\n",
      "       [ 0.87519341],\n",
      "       [ 0.86542474]])\n",
      "#+end_example"
     ]
    }
   ],
   "source": [
    "sol"
   ]
  },
  {
   "cell_type": "markdown",
   "metadata": {},
   "source": [
    "To get the concentration at the end, we can use indexing. -1 means the last element.\n",
    "\n"
   ]
  },
  {
   "cell_type": "code",
   "execution_count": 1,
   "metadata": {
    "collapsed": false
   },
   "outputs": [
    {
     "name": "stdout",
     "output_type": "stream",
     "text": [
      "After 5 minutes the concentration is 0.87 M."
     ]
    }
   ],
   "source": [
    "Ca5, = sol[-1]\n",
    "print('After 5 minutes the concentration is {0:1.2f} M.'.format(Ca5))"
   ]
  },
  {
   "cell_type": "markdown",
   "metadata": {},
   "source": [
    "\n",
    "# Summary thoughts\n",
    "\n",
    "We used Python to solve a problem several different ways. The problem was easy, and you could use a calculator for it. That was done on purpose, so it would be easy to check our answer is correct, and so we could focus on how to use Python to do that. Later, the problems will be much harder, and it will not be easy or possible to use a calculator.\n",
    "\n",
    "There is more than one way to solve any problem. Some ways are easier, and less prone to making mistakes. Doing algebra by hand is tedious. When you don't document your work, it is not easy to tell how you got to the equation you solved. In contrast, numerically integrating the ODE above had very few steps, and each one is documented. \n",
    "\n",
    "Each method has tradeoffs, and one thing we will spend a lot of time on is understanding the tradeoffs in complexity, coding, ease of verifying the solution, etc&#x2026;\n",
    "\n",
    "\n",
    "# Review these commands\n",
    "\n",
    "Run these cells:\n",
    "\n"
   ]
  },
  {
   "cell_type": "code",
   "execution_count": 1,
   "metadata": {
    "collapsed": true
   },
   "outputs": [],
   "source": [
    "?np.linspace"
   ]
  },
  {
   "cell_type": "markdown",
   "metadata": {},
   "source": [
    "\n"
   ]
  },
  {
   "cell_type": "code",
   "execution_count": 1,
   "metadata": {
    "collapsed": true
   },
   "outputs": [],
   "source": [
    "?np.exp"
   ]
  },
  {
   "cell_type": "markdown",
   "metadata": {},
   "source": [
    "\n"
   ]
  },
  {
   "cell_type": "code",
   "execution_count": 1,
   "metadata": {
    "collapsed": true
   },
   "outputs": [],
   "source": [
    "?np.log"
   ]
  },
  {
   "cell_type": "markdown",
   "metadata": {},
   "source": [
    "\n"
   ]
  },
  {
   "cell_type": "code",
   "execution_count": 1,
   "metadata": {
    "collapsed": true
   },
   "outputs": [],
   "source": [
    "?plt.plot"
   ]
  },
  {
   "cell_type": "markdown",
   "metadata": {},
   "source": [
    "\n"
   ]
  },
  {
   "cell_type": "code",
   "execution_count": 1,
   "metadata": {
    "collapsed": true
   },
   "outputs": [],
   "source": [
    "?plt.xlabel"
   ]
  },
  {
   "cell_type": "markdown",
   "metadata": {},
   "source": [
    "\n"
   ]
  },
  {
   "cell_type": "code",
   "execution_count": 1,
   "metadata": {
    "collapsed": true
   },
   "outputs": [],
   "source": [
    "?plt.ylabel"
   ]
  },
  {
   "cell_type": "markdown",
   "metadata": {},
   "source": [
    "\n"
   ]
  },
  {
   "cell_type": "code",
   "execution_count": 1,
   "metadata": {
    "collapsed": true
   },
   "outputs": [],
   "source": [
    "?quad"
   ]
  },
  {
   "cell_type": "markdown",
   "metadata": {},
   "source": [
    "\n"
   ]
  },
  {
   "cell_type": "code",
   "execution_count": 1,
   "metadata": {
    "collapsed": true
   },
   "outputs": [],
   "source": [
    "?fsolve"
   ]
  },
  {
   "cell_type": "markdown",
   "metadata": {},
   "source": [
    "\n"
   ]
  },
  {
   "cell_type": "code",
   "execution_count": 1,
   "metadata": {
    "collapsed": false
   },
   "outputs": [
    {
     "name": "stdout",
     "output_type": "stream",
     "text": []
    }
   ],
   "source": [
    "?odeint"
   ]
  },
  {
   "cell_type": "markdown",
   "metadata": {},
   "source": [
    "\n"
   ]
  }
 ],
 "metadata": {
  "kernelspec": {
   "display_name": "Python 3",
   "language": "python",
   "name": "python3"
  },
  "language_info": {
   "codemirror_mode": {
    "name": "ipython",
    "version": 3
   },
   "file_extension": ".py",
   "mimetype": "text/x-python",
   "name": "python",
   "nbconvert_exporter": "python",
   "pygments_lexer": "ipython3",
   "version": "3.5.2"
  }
 },
 "nbformat": 4,
 "nbformat_minor": 0
}
